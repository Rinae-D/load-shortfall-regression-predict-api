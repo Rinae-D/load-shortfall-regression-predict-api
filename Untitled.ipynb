{
 "cells": [
  {
   "cell_type": "markdown",
   "id": "88c78cdc",
   "metadata": {},
   "source": [
    "# Introduction"
   ]
  },
  {
   "cell_type": "markdown",
   "id": "04e1f627",
   "metadata": {},
   "source": [
    "### Predict Overview: Spain Electricity Shortfall Challenge\n",
    "\n",
    "The government of Spain is considering an expansion of it's renewable energy resource infrastructure investments and estimates spending USD 14.8 million per year until 2030 for energy storage to decrease CO2 emissions. There are three renewable energy sources in five different cities in Spain to focus on.\n",
    "\n",
    "Renewable energy sources:\n",
    "- Solar power\n",
    "- Wind power\n",
    "- Hydro power\n",
    "\n",
    "\n",
    "The key objectives of this research project are as follow:\n",
    "\n",
    "- Predict the load shortfall between various renewable energies and fossil energy.\n",
    "- Provide trends and patterns of the countries renewable sources and fossil fuel energy generation.\n",
    " \n",
    " "
   ]
  },
  {
   "cell_type": "markdown",
   "id": "1e77594a",
   "metadata": {},
   "source": [
    "<a id=\"cont\"></a>\n",
    "\n",
    "## Table of Contents\n",
    "\n",
    "<a href=#one>1. Importing Packages</a>\n",
    "\n",
    "<a href=#two>2. Loading Data</a>\n",
    "\n",
    "<a href=#three>3. Data Preprocessing</a>\n",
    "\n",
    "<a href=#four>4. Exploratory Data Analysis (EDA)</a>\n",
    "\n",
    "<a href=#five>5. Data Engineering</a>\n",
    "\n",
    "<a href=#six>6. Modeling</a>\n",
    "\n",
    "<a href=#seven>7. Model Performance</a>\n",
    "\n",
    "<a href=#eight>8. Model Explanations</a>"
   ]
  },
  {
   "cell_type": "markdown",
   "id": "1abae9e1",
   "metadata": {},
   "source": [
    " <a id=\"one\"></a>\n",
    "## 1. Importing Packages\n"
   ]
  },
  {
   "cell_type": "code",
   "execution_count": 1,
   "id": "943623db",
   "metadata": {},
   "outputs": [],
   "source": [
    "# Libraries for data loading, data manipulation and data visulisation\n",
    "import numpy as np\n",
    "import pandas as pd\n",
    "import matplotlib.pyplot as plt\n",
    "from matplotlib import rc\n",
    "import seaborn as sns\n",
    "from sklearn.preprocessing import LabelEncoder\n",
    "import datetime as dt\n",
    "\n",
    "# Libraries for data preparation and model building\n",
    "from sklearn.preprocessing import StandardScaler\n",
    "from sklearn.model_selection import train_test_split\n",
    "from sklearn.linear_model import Ridge\n",
    "from sklearn.ensemble import RandomForestRegressor\n",
    "from sklearn import metrics\n",
    "from sklearn.linear_model import LinearRegression\n",
    "from sklearn.metrics import mean_squared_error\n",
    "\n",
    "# Setting global constants to ensure notebook results are reproducible\n",
    "pd.set_option('display.max_rows', 500)\n",
    "pd.set_option('display.max_columns', 20)\n",
    "sns.set(rc={'figure.figsize':(12,8)})"
   ]
  },
  {
   "cell_type": "markdown",
   "id": "dd9548d0",
   "metadata": {},
   "source": [
    "<a id=\"two\"></a>\n",
    "## 2. Loading the Data"
   ]
  },
  {
   "cell_type": "code",
   "execution_count": 2,
   "id": "8ccddc46",
   "metadata": {},
   "outputs": [],
   "source": [
    "# Loading train and test data from csv files\n",
    "\n",
    "df1 = pd.read_csv(\"df_train.csv\")\n",
    "df2 = pd.read_csv(\"df_test.csv\")"
   ]
  },
  {
   "cell_type": "markdown",
   "id": "71a1dbf3",
   "metadata": {},
   "source": [
    "## 3. Data Preprocessing\n",
    "During data preprocessing, data will be cleaned, removed, manipulated and transformed to ensure that it is arranged in an understable format."
   ]
  },
  {
   "cell_type": "markdown",
   "id": "db62274a",
   "metadata": {},
   "source": [
    "Merging of datasets is done so that all the data preprocessing is done simultaneously on both data sets."
   ]
  },
  {
   "cell_type": "code",
   "execution_count": 3,
   "id": "ec8084dc",
   "metadata": {},
   "outputs": [
    {
     "data": {
      "text/html": [
       "<div>\n",
       "<style scoped>\n",
       "    .dataframe tbody tr th:only-of-type {\n",
       "        vertical-align: middle;\n",
       "    }\n",
       "\n",
       "    .dataframe tbody tr th {\n",
       "        vertical-align: top;\n",
       "    }\n",
       "\n",
       "    .dataframe thead th {\n",
       "        text-align: right;\n",
       "    }\n",
       "</style>\n",
       "<table border=\"1\" class=\"dataframe\">\n",
       "  <thead>\n",
       "    <tr style=\"text-align: right;\">\n",
       "      <th></th>\n",
       "      <th>Unnamed: 0</th>\n",
       "      <th>time</th>\n",
       "      <th>Madrid_wind_speed</th>\n",
       "      <th>Valencia_wind_deg</th>\n",
       "      <th>Bilbao_rain_1h</th>\n",
       "      <th>Valencia_wind_speed</th>\n",
       "      <th>Seville_humidity</th>\n",
       "      <th>Madrid_humidity</th>\n",
       "      <th>Bilbao_clouds_all</th>\n",
       "      <th>Bilbao_wind_speed</th>\n",
       "      <th>...</th>\n",
       "      <th>Madrid_temp_max</th>\n",
       "      <th>Barcelona_temp</th>\n",
       "      <th>Bilbao_temp_min</th>\n",
       "      <th>Bilbao_temp</th>\n",
       "      <th>Barcelona_temp_min</th>\n",
       "      <th>Bilbao_temp_max</th>\n",
       "      <th>Seville_temp_min</th>\n",
       "      <th>Madrid_temp</th>\n",
       "      <th>Madrid_temp_min</th>\n",
       "      <th>load_shortfall_3h</th>\n",
       "    </tr>\n",
       "  </thead>\n",
       "  <tbody>\n",
       "    <tr>\n",
       "      <th>0</th>\n",
       "      <td>0</td>\n",
       "      <td>2015-01-01 03:00:00</td>\n",
       "      <td>0.666667</td>\n",
       "      <td>level_5</td>\n",
       "      <td>0.0</td>\n",
       "      <td>0.666667</td>\n",
       "      <td>74.333333</td>\n",
       "      <td>64.000000</td>\n",
       "      <td>0.0</td>\n",
       "      <td>1.000000</td>\n",
       "      <td>...</td>\n",
       "      <td>265.938000</td>\n",
       "      <td>281.013000</td>\n",
       "      <td>269.338615</td>\n",
       "      <td>269.338615</td>\n",
       "      <td>281.013000</td>\n",
       "      <td>269.338615</td>\n",
       "      <td>274.254667</td>\n",
       "      <td>265.938000</td>\n",
       "      <td>265.938000</td>\n",
       "      <td>6715.666667</td>\n",
       "    </tr>\n",
       "    <tr>\n",
       "      <th>1</th>\n",
       "      <td>1</td>\n",
       "      <td>2015-01-01 06:00:00</td>\n",
       "      <td>0.333333</td>\n",
       "      <td>level_10</td>\n",
       "      <td>0.0</td>\n",
       "      <td>1.666667</td>\n",
       "      <td>78.333333</td>\n",
       "      <td>64.666667</td>\n",
       "      <td>0.0</td>\n",
       "      <td>1.000000</td>\n",
       "      <td>...</td>\n",
       "      <td>266.386667</td>\n",
       "      <td>280.561667</td>\n",
       "      <td>270.376000</td>\n",
       "      <td>270.376000</td>\n",
       "      <td>280.561667</td>\n",
       "      <td>270.376000</td>\n",
       "      <td>274.945000</td>\n",
       "      <td>266.386667</td>\n",
       "      <td>266.386667</td>\n",
       "      <td>4171.666667</td>\n",
       "    </tr>\n",
       "    <tr>\n",
       "      <th>2</th>\n",
       "      <td>2</td>\n",
       "      <td>2015-01-01 09:00:00</td>\n",
       "      <td>1.000000</td>\n",
       "      <td>level_9</td>\n",
       "      <td>0.0</td>\n",
       "      <td>1.000000</td>\n",
       "      <td>71.333333</td>\n",
       "      <td>64.333333</td>\n",
       "      <td>0.0</td>\n",
       "      <td>1.000000</td>\n",
       "      <td>...</td>\n",
       "      <td>272.708667</td>\n",
       "      <td>281.583667</td>\n",
       "      <td>275.027229</td>\n",
       "      <td>275.027229</td>\n",
       "      <td>281.583667</td>\n",
       "      <td>275.027229</td>\n",
       "      <td>278.792000</td>\n",
       "      <td>272.708667</td>\n",
       "      <td>272.708667</td>\n",
       "      <td>4274.666667</td>\n",
       "    </tr>\n",
       "    <tr>\n",
       "      <th>3</th>\n",
       "      <td>3</td>\n",
       "      <td>2015-01-01 12:00:00</td>\n",
       "      <td>1.000000</td>\n",
       "      <td>level_8</td>\n",
       "      <td>0.0</td>\n",
       "      <td>1.000000</td>\n",
       "      <td>65.333333</td>\n",
       "      <td>56.333333</td>\n",
       "      <td>0.0</td>\n",
       "      <td>1.000000</td>\n",
       "      <td>...</td>\n",
       "      <td>281.895219</td>\n",
       "      <td>283.434104</td>\n",
       "      <td>281.135063</td>\n",
       "      <td>281.135063</td>\n",
       "      <td>283.434104</td>\n",
       "      <td>281.135063</td>\n",
       "      <td>285.394000</td>\n",
       "      <td>281.895219</td>\n",
       "      <td>281.895219</td>\n",
       "      <td>5075.666667</td>\n",
       "    </tr>\n",
       "    <tr>\n",
       "      <th>4</th>\n",
       "      <td>4</td>\n",
       "      <td>2015-01-01 15:00:00</td>\n",
       "      <td>1.000000</td>\n",
       "      <td>level_7</td>\n",
       "      <td>0.0</td>\n",
       "      <td>1.000000</td>\n",
       "      <td>59.000000</td>\n",
       "      <td>57.000000</td>\n",
       "      <td>2.0</td>\n",
       "      <td>0.333333</td>\n",
       "      <td>...</td>\n",
       "      <td>280.678437</td>\n",
       "      <td>284.213167</td>\n",
       "      <td>282.252063</td>\n",
       "      <td>282.252063</td>\n",
       "      <td>284.213167</td>\n",
       "      <td>282.252063</td>\n",
       "      <td>285.513719</td>\n",
       "      <td>280.678437</td>\n",
       "      <td>280.678437</td>\n",
       "      <td>6620.666667</td>\n",
       "    </tr>\n",
       "  </tbody>\n",
       "</table>\n",
       "<p>5 rows × 49 columns</p>\n",
       "</div>"
      ],
      "text/plain": [
       "   Unnamed: 0                 time  Madrid_wind_speed Valencia_wind_deg  \\\n",
       "0           0  2015-01-01 03:00:00           0.666667           level_5   \n",
       "1           1  2015-01-01 06:00:00           0.333333          level_10   \n",
       "2           2  2015-01-01 09:00:00           1.000000           level_9   \n",
       "3           3  2015-01-01 12:00:00           1.000000           level_8   \n",
       "4           4  2015-01-01 15:00:00           1.000000           level_7   \n",
       "\n",
       "   Bilbao_rain_1h  Valencia_wind_speed  Seville_humidity  Madrid_humidity  \\\n",
       "0             0.0             0.666667         74.333333        64.000000   \n",
       "1             0.0             1.666667         78.333333        64.666667   \n",
       "2             0.0             1.000000         71.333333        64.333333   \n",
       "3             0.0             1.000000         65.333333        56.333333   \n",
       "4             0.0             1.000000         59.000000        57.000000   \n",
       "\n",
       "   Bilbao_clouds_all  Bilbao_wind_speed  ...  Madrid_temp_max  Barcelona_temp  \\\n",
       "0                0.0           1.000000  ...       265.938000      281.013000   \n",
       "1                0.0           1.000000  ...       266.386667      280.561667   \n",
       "2                0.0           1.000000  ...       272.708667      281.583667   \n",
       "3                0.0           1.000000  ...       281.895219      283.434104   \n",
       "4                2.0           0.333333  ...       280.678437      284.213167   \n",
       "\n",
       "   Bilbao_temp_min  Bilbao_temp  Barcelona_temp_min  Bilbao_temp_max  \\\n",
       "0       269.338615   269.338615          281.013000       269.338615   \n",
       "1       270.376000   270.376000          280.561667       270.376000   \n",
       "2       275.027229   275.027229          281.583667       275.027229   \n",
       "3       281.135063   281.135063          283.434104       281.135063   \n",
       "4       282.252063   282.252063          284.213167       282.252063   \n",
       "\n",
       "   Seville_temp_min Madrid_temp  Madrid_temp_min  load_shortfall_3h  \n",
       "0        274.254667  265.938000       265.938000        6715.666667  \n",
       "1        274.945000  266.386667       266.386667        4171.666667  \n",
       "2        278.792000  272.708667       272.708667        4274.666667  \n",
       "3        285.394000  281.895219       281.895219        5075.666667  \n",
       "4        285.513719  280.678437       280.678437        6620.666667  \n",
       "\n",
       "[5 rows x 49 columns]"
      ]
     },
     "execution_count": 3,
     "metadata": {},
     "output_type": "execute_result"
    }
   ],
   "source": [
    "# Concatenating df1 and df2 data sets\n",
    "\n",
    "df_new = pd.concat([df1, df2])\n",
    "df_new.head()"
   ]
  },
  {
   "cell_type": "code",
   "execution_count": 4,
   "id": "3a9edc1c",
   "metadata": {},
   "outputs": [
    {
     "data": {
      "text/plain": [
       "(11683, 49)"
      ]
     },
     "execution_count": 4,
     "metadata": {},
     "output_type": "execute_result"
    }
   ],
   "source": [
    "# Checking the shape of the data set\n",
    "df_new.shape"
   ]
  },
  {
   "cell_type": "markdown",
   "id": "351667cc",
   "metadata": {},
   "source": [
    "- The data set consist of 11683 row and 49 columns"
   ]
  },
  {
   "cell_type": "code",
   "execution_count": null,
   "id": "115c7814",
   "metadata": {},
   "outputs": [],
   "source": []
  },
  {
   "cell_type": "code",
   "execution_count": 5,
   "id": "9d877bc9",
   "metadata": {},
   "outputs": [],
   "source": [
    "df_clean = df_new"
   ]
  },
  {
   "cell_type": "markdown",
   "id": "7b9ea8ca",
   "metadata": {},
   "source": [
    "### Handling missing values"
   ]
  },
  {
   "cell_type": "code",
   "execution_count": 6,
   "id": "054b434a",
   "metadata": {},
   "outputs": [
    {
     "data": {
      "text/html": [
       "<div>\n",
       "<style scoped>\n",
       "    .dataframe tbody tr th:only-of-type {\n",
       "        vertical-align: middle;\n",
       "    }\n",
       "\n",
       "    .dataframe tbody tr th {\n",
       "        vertical-align: top;\n",
       "    }\n",
       "\n",
       "    .dataframe thead th {\n",
       "        text-align: right;\n",
       "    }\n",
       "</style>\n",
       "<table border=\"1\" class=\"dataframe\">\n",
       "  <thead>\n",
       "    <tr style=\"text-align: right;\">\n",
       "      <th></th>\n",
       "      <th>Total NaN</th>\n",
       "      <th>Percent NaN</th>\n",
       "    </tr>\n",
       "  </thead>\n",
       "  <tbody>\n",
       "    <tr>\n",
       "      <th>load_shortfall_3h</th>\n",
       "      <td>2920</td>\n",
       "      <td>24.993580</td>\n",
       "    </tr>\n",
       "    <tr>\n",
       "      <th>Valencia_pressure</th>\n",
       "      <td>2522</td>\n",
       "      <td>21.586921</td>\n",
       "    </tr>\n",
       "    <tr>\n",
       "      <th>Madrid_weather_id</th>\n",
       "      <td>0</td>\n",
       "      <td>0.000000</td>\n",
       "    </tr>\n",
       "    <tr>\n",
       "      <th>Bilbao_pressure</th>\n",
       "      <td>0</td>\n",
       "      <td>0.000000</td>\n",
       "    </tr>\n",
       "    <tr>\n",
       "      <th>Seville_weather_id</th>\n",
       "      <td>0</td>\n",
       "      <td>0.000000</td>\n",
       "    </tr>\n",
       "  </tbody>\n",
       "</table>\n",
       "</div>"
      ],
      "text/plain": [
       "                    Total NaN  Percent NaN\n",
       "load_shortfall_3h        2920    24.993580\n",
       "Valencia_pressure        2522    21.586921\n",
       "Madrid_weather_id           0     0.000000\n",
       "Bilbao_pressure             0     0.000000\n",
       "Seville_weather_id          0     0.000000"
      ]
     },
     "execution_count": 6,
     "metadata": {},
     "output_type": "execute_result"
    }
   ],
   "source": [
    "# Check for the sum and percentage of null values in each column\n",
    "\n",
    "total_nans = df_clean.isnull().sum().sort_values(ascending=False)\n",
    "percent_nans = (df_clean.isnull().mean() * 100).sort_values(ascending=False)\n",
    "df_clean_nans = pd.concat([total_nans, percent_nans], axis=1, keys=['Total NaN', 'Percent NaN'])\n",
    "df_clean_nans.head()"
   ]
  },
  {
   "cell_type": "markdown",
   "id": "824ad445",
   "metadata": {},
   "source": [
    "- Valencia_pressure has approximately 22% null values.\n",
    "- load_shortfall_3h has approximately 25% null values this is because the test dataset does not have the depedent variable.\n",
    "\n"
   ]
  },
  {
   "cell_type": "code",
   "execution_count": 7,
   "id": "e616665c",
   "metadata": {},
   "outputs": [],
   "source": [
    "# Replacing Valencia_pressure null values with the mean\n",
    "\n",
    "df_clean['Valencia_pressure'] = df_clean['Valencia_pressure'].fillna(df_clean['Valencia_pressure'].mean())"
   ]
  },
  {
   "cell_type": "code",
   "execution_count": 8,
   "id": "4fe1cc3c",
   "metadata": {},
   "outputs": [
    {
     "data": {
      "text/html": [
       "<div>\n",
       "<style scoped>\n",
       "    .dataframe tbody tr th:only-of-type {\n",
       "        vertical-align: middle;\n",
       "    }\n",
       "\n",
       "    .dataframe tbody tr th {\n",
       "        vertical-align: top;\n",
       "    }\n",
       "\n",
       "    .dataframe thead th {\n",
       "        text-align: right;\n",
       "    }\n",
       "</style>\n",
       "<table border=\"1\" class=\"dataframe\">\n",
       "  <thead>\n",
       "    <tr style=\"text-align: right;\">\n",
       "      <th></th>\n",
       "      <th>Total NaN</th>\n",
       "      <th>Percent NaN</th>\n",
       "    </tr>\n",
       "  </thead>\n",
       "  <tbody>\n",
       "    <tr>\n",
       "      <th>load_shortfall_3h</th>\n",
       "      <td>2920</td>\n",
       "      <td>24.99358</td>\n",
       "    </tr>\n",
       "    <tr>\n",
       "      <th>Madrid_weather_id</th>\n",
       "      <td>0</td>\n",
       "      <td>0.00000</td>\n",
       "    </tr>\n",
       "    <tr>\n",
       "      <th>Bilbao_pressure</th>\n",
       "      <td>0</td>\n",
       "      <td>0.00000</td>\n",
       "    </tr>\n",
       "    <tr>\n",
       "      <th>Seville_weather_id</th>\n",
       "      <td>0</td>\n",
       "      <td>0.00000</td>\n",
       "    </tr>\n",
       "    <tr>\n",
       "      <th>Valencia_pressure</th>\n",
       "      <td>0</td>\n",
       "      <td>0.00000</td>\n",
       "    </tr>\n",
       "  </tbody>\n",
       "</table>\n",
       "</div>"
      ],
      "text/plain": [
       "                    Total NaN  Percent NaN\n",
       "load_shortfall_3h        2920     24.99358\n",
       "Madrid_weather_id           0      0.00000\n",
       "Bilbao_pressure             0      0.00000\n",
       "Seville_weather_id          0      0.00000\n",
       "Valencia_pressure           0      0.00000"
      ]
     },
     "execution_count": 8,
     "metadata": {},
     "output_type": "execute_result"
    }
   ],
   "source": [
    "# Checking if Valencia_pressure null values have been imputed with the mean\n",
    "\n",
    "total_nans = df_clean.isnull().sum().sort_values(ascending=False)\n",
    "percent_nans = (df_clean.isnull().mean() * 100).sort_values(ascending=False)\n",
    "df_clean_nans = pd.concat([total_nans, percent_nans], axis=1, keys=['Total NaN', 'Percent NaN'])\n",
    "df_clean_nans.head()"
   ]
  },
  {
   "cell_type": "markdown",
   "id": "fcd37a43",
   "metadata": {},
   "source": [
    "### Processing variables that have random errors or unnecessary data points. "
   ]
  },
  {
   "cell_type": "code",
   "execution_count": 9,
   "id": "308b89c5",
   "metadata": {},
   "outputs": [
    {
     "name": "stdout",
     "output_type": "stream",
     "text": [
      "<class 'pandas.core.frame.DataFrame'>\n",
      "Int64Index: 11683 entries, 0 to 2919\n",
      "Data columns (total 48 columns):\n",
      " #   Column                Non-Null Count  Dtype  \n",
      "---  ------                --------------  -----  \n",
      " 0   time                  11683 non-null  object \n",
      " 1   Madrid_wind_speed     11683 non-null  float64\n",
      " 2   Valencia_wind_deg     11683 non-null  object \n",
      " 3   Bilbao_rain_1h        11683 non-null  float64\n",
      " 4   Valencia_wind_speed   11683 non-null  float64\n",
      " 5   Seville_humidity      11683 non-null  float64\n",
      " 6   Madrid_humidity       11683 non-null  float64\n",
      " 7   Bilbao_clouds_all     11683 non-null  float64\n",
      " 8   Bilbao_wind_speed     11683 non-null  float64\n",
      " 9   Seville_clouds_all    11683 non-null  float64\n",
      " 10  Bilbao_wind_deg       11683 non-null  float64\n",
      " 11  Barcelona_wind_speed  11683 non-null  float64\n",
      " 12  Barcelona_wind_deg    11683 non-null  float64\n",
      " 13  Madrid_clouds_all     11683 non-null  float64\n",
      " 14  Seville_wind_speed    11683 non-null  float64\n",
      " 15  Barcelona_rain_1h     11683 non-null  float64\n",
      " 16  Seville_pressure      11683 non-null  object \n",
      " 17  Seville_rain_1h       11683 non-null  float64\n",
      " 18  Bilbao_snow_3h        11683 non-null  float64\n",
      " 19  Barcelona_pressure    11683 non-null  float64\n",
      " 20  Seville_rain_3h       11683 non-null  float64\n",
      " 21  Madrid_rain_1h        11683 non-null  float64\n",
      " 22  Barcelona_rain_3h     11683 non-null  float64\n",
      " 23  Valencia_snow_3h      11683 non-null  float64\n",
      " 24  Madrid_weather_id     11683 non-null  float64\n",
      " 25  Barcelona_weather_id  11683 non-null  float64\n",
      " 26  Bilbao_pressure       11683 non-null  float64\n",
      " 27  Seville_weather_id    11683 non-null  float64\n",
      " 28  Valencia_pressure     11683 non-null  float64\n",
      " 29  Seville_temp_max      11683 non-null  float64\n",
      " 30  Madrid_pressure       11683 non-null  float64\n",
      " 31  Valencia_temp_max     11683 non-null  float64\n",
      " 32  Valencia_temp         11683 non-null  float64\n",
      " 33  Bilbao_weather_id     11683 non-null  float64\n",
      " 34  Seville_temp          11683 non-null  float64\n",
      " 35  Valencia_humidity     11683 non-null  float64\n",
      " 36  Valencia_temp_min     11683 non-null  float64\n",
      " 37  Barcelona_temp_max    11683 non-null  float64\n",
      " 38  Madrid_temp_max       11683 non-null  float64\n",
      " 39  Barcelona_temp        11683 non-null  float64\n",
      " 40  Bilbao_temp_min       11683 non-null  float64\n",
      " 41  Bilbao_temp           11683 non-null  float64\n",
      " 42  Barcelona_temp_min    11683 non-null  float64\n",
      " 43  Bilbao_temp_max       11683 non-null  float64\n",
      " 44  Seville_temp_min      11683 non-null  float64\n",
      " 45  Madrid_temp           11683 non-null  float64\n",
      " 46  Madrid_temp_min       11683 non-null  float64\n",
      " 47  load_shortfall_3h     8763 non-null   float64\n",
      "dtypes: float64(45), object(3)\n",
      "memory usage: 4.4+ MB\n"
     ]
    }
   ],
   "source": [
    "# Drop Unnamed: 0\n",
    "\n",
    "df_clean = df_clean.drop(['Unnamed: 0'], axis = 1)\n",
    "df_clean.info()"
   ]
  },
  {
   "cell_type": "markdown",
   "id": "28d8f66a",
   "metadata": {},
   "source": [
    "- Unnamed: 0 has been removed from the data set. \n",
    "- It can also be observed that Valencia_wind_deg and Seville_pressure data type is object."
   ]
  },
  {
   "cell_type": "markdown",
   "id": "60d59069",
   "metadata": {},
   "source": [
    "### Changing data type"
   ]
  },
  {
   "cell_type": "markdown",
   "id": "4cd9d9ff",
   "metadata": {},
   "source": [
    "Most machine learning algorithms require all input and output variables to be numeric."
   ]
  },
  {
   "cell_type": "code",
   "execution_count": 10,
   "id": "bbf31193",
   "metadata": {},
   "outputs": [
    {
     "data": {
      "text/plain": [
       "0        level_5\n",
       "1       level_10\n",
       "2        level_9\n",
       "3        level_8\n",
       "4        level_7\n",
       "          ...   \n",
       "2915     level_9\n",
       "2916     level_8\n",
       "2917     level_6\n",
       "2918     level_6\n",
       "2919    level_10\n",
       "Name: Valencia_wind_deg, Length: 11683, dtype: object"
      ]
     },
     "execution_count": 10,
     "metadata": {},
     "output_type": "execute_result"
    }
   ],
   "source": [
    "df_clean['Valencia_wind_deg']"
   ]
  },
  {
   "cell_type": "code",
   "execution_count": 11,
   "id": "162bdffe",
   "metadata": {},
   "outputs": [],
   "source": [
    "# Extracting numeric values from Valencia_wind_deg column\n",
    "# Changing Valencia_wind_deg dtype from object to int64\n",
    "\n",
    "df_clean['Valencia_wind_deg'] = df_clean['Valencia_wind_deg'].str.extract('(\\d+)')\n",
    "df_clean['Valencia_wind_deg'] = pd.to_numeric(df_clean['Valencia_wind_deg'])"
   ]
  },
  {
   "cell_type": "code",
   "execution_count": 12,
   "id": "ce17f449",
   "metadata": {},
   "outputs": [
    {
     "data": {
      "text/plain": [
       "0       sp25\n",
       "1       sp25\n",
       "2       sp25\n",
       "3       sp25\n",
       "4       sp25\n",
       "        ... \n",
       "2915    sp24\n",
       "2916    sp24\n",
       "2917    sp23\n",
       "2918    sp23\n",
       "2919    sp23\n",
       "Name: Seville_pressure, Length: 11683, dtype: object"
      ]
     },
     "execution_count": 12,
     "metadata": {},
     "output_type": "execute_result"
    }
   ],
   "source": [
    "df_clean[\"Seville_pressure\"]"
   ]
  },
  {
   "cell_type": "code",
   "execution_count": 13,
   "id": "29a5e495",
   "metadata": {},
   "outputs": [],
   "source": [
    "# Cxtracting numeric values from Seville_pressure column\n",
    "# Changing Valencia_wind_deg dtype from object to int64\n",
    "\n",
    "df_clean['Seville_pressure'] = df_clean['Seville_pressure'].str.extract('(\\d+)')\n",
    "df_clean['Seville_pressure'] = pd.to_numeric(df_clean['Seville_pressure'])"
   ]
  },
  {
   "cell_type": "code",
   "execution_count": 14,
   "id": "9dc6c543",
   "metadata": {},
   "outputs": [
    {
     "data": {
      "text/html": [
       "<div>\n",
       "<style scoped>\n",
       "    .dataframe tbody tr th:only-of-type {\n",
       "        vertical-align: middle;\n",
       "    }\n",
       "\n",
       "    .dataframe tbody tr th {\n",
       "        vertical-align: top;\n",
       "    }\n",
       "\n",
       "    .dataframe thead th {\n",
       "        text-align: right;\n",
       "    }\n",
       "</style>\n",
       "<table border=\"1\" class=\"dataframe\">\n",
       "  <thead>\n",
       "    <tr style=\"text-align: right;\">\n",
       "      <th></th>\n",
       "      <th>Madrid_wind_speed</th>\n",
       "      <th>Valencia_wind_deg</th>\n",
       "      <th>Bilbao_rain_1h</th>\n",
       "      <th>Valencia_wind_speed</th>\n",
       "      <th>Seville_humidity</th>\n",
       "      <th>Madrid_humidity</th>\n",
       "      <th>Bilbao_clouds_all</th>\n",
       "      <th>Bilbao_wind_speed</th>\n",
       "      <th>Seville_clouds_all</th>\n",
       "      <th>Bilbao_wind_deg</th>\n",
       "      <th>...</th>\n",
       "      <th>Madrid_temp_max</th>\n",
       "      <th>Barcelona_temp</th>\n",
       "      <th>Bilbao_temp_min</th>\n",
       "      <th>Bilbao_temp</th>\n",
       "      <th>Barcelona_temp_min</th>\n",
       "      <th>Bilbao_temp_max</th>\n",
       "      <th>Seville_temp_min</th>\n",
       "      <th>Madrid_temp</th>\n",
       "      <th>Madrid_temp_min</th>\n",
       "      <th>load_shortfall_3h</th>\n",
       "    </tr>\n",
       "  </thead>\n",
       "  <tbody>\n",
       "    <tr>\n",
       "      <th>count</th>\n",
       "      <td>11683.000000</td>\n",
       "      <td>11683.000000</td>\n",
       "      <td>11683.000000</td>\n",
       "      <td>11683.000000</td>\n",
       "      <td>11683.000000</td>\n",
       "      <td>11683.000000</td>\n",
       "      <td>11683.000000</td>\n",
       "      <td>11683.000000</td>\n",
       "      <td>11683.000000</td>\n",
       "      <td>11683.000000</td>\n",
       "      <td>...</td>\n",
       "      <td>11683.000000</td>\n",
       "      <td>11683.000000</td>\n",
       "      <td>11683.000000</td>\n",
       "      <td>11683.000000</td>\n",
       "      <td>11683.000000</td>\n",
       "      <td>11683.000000</td>\n",
       "      <td>11683.000000</td>\n",
       "      <td>11683.000000</td>\n",
       "      <td>11683.000000</td>\n",
       "      <td>8763.000000</td>\n",
       "    </tr>\n",
       "    <tr>\n",
       "      <th>mean</th>\n",
       "      <td>2.433750</td>\n",
       "      <td>5.476590</td>\n",
       "      <td>0.118698</td>\n",
       "      <td>2.692873</td>\n",
       "      <td>63.774687</td>\n",
       "      <td>58.721818</td>\n",
       "      <td>43.440712</td>\n",
       "      <td>1.958629</td>\n",
       "      <td>14.155268</td>\n",
       "      <td>159.878855</td>\n",
       "      <td>...</td>\n",
       "      <td>289.377372</td>\n",
       "      <td>289.869413</td>\n",
       "      <td>284.993657</td>\n",
       "      <td>286.447784</td>\n",
       "      <td>288.616766</td>\n",
       "      <td>288.095397</td>\n",
       "      <td>291.263219</td>\n",
       "      <td>288.282055</td>\n",
       "      <td>287.056222</td>\n",
       "      <td>10673.857612</td>\n",
       "    </tr>\n",
       "    <tr>\n",
       "      <th>std</th>\n",
       "      <td>1.831762</td>\n",
       "      <td>2.863384</td>\n",
       "      <td>0.334918</td>\n",
       "      <td>2.321759</td>\n",
       "      <td>22.219380</td>\n",
       "      <td>24.390621</td>\n",
       "      <td>32.046215</td>\n",
       "      <td>1.696043</td>\n",
       "      <td>24.541321</td>\n",
       "      <td>101.005654</td>\n",
       "      <td>...</td>\n",
       "      <td>9.594562</td>\n",
       "      <td>6.680538</td>\n",
       "      <td>6.730076</td>\n",
       "      <td>6.738466</td>\n",
       "      <td>6.391989</td>\n",
       "      <td>6.898601</td>\n",
       "      <td>8.136234</td>\n",
       "      <td>9.258559</td>\n",
       "      <td>9.093455</td>\n",
       "      <td>5218.046404</td>\n",
       "    </tr>\n",
       "    <tr>\n",
       "      <th>min</th>\n",
       "      <td>0.000000</td>\n",
       "      <td>1.000000</td>\n",
       "      <td>0.000000</td>\n",
       "      <td>0.000000</td>\n",
       "      <td>8.333333</td>\n",
       "      <td>6.333333</td>\n",
       "      <td>0.000000</td>\n",
       "      <td>0.000000</td>\n",
       "      <td>0.000000</td>\n",
       "      <td>0.000000</td>\n",
       "      <td>...</td>\n",
       "      <td>264.983333</td>\n",
       "      <td>270.816667</td>\n",
       "      <td>264.483333</td>\n",
       "      <td>267.483333</td>\n",
       "      <td>269.483333</td>\n",
       "      <td>269.063000</td>\n",
       "      <td>270.150000</td>\n",
       "      <td>264.983333</td>\n",
       "      <td>264.983333</td>\n",
       "      <td>-6618.000000</td>\n",
       "    </tr>\n",
       "    <tr>\n",
       "      <th>25%</th>\n",
       "      <td>1.000000</td>\n",
       "      <td>3.000000</td>\n",
       "      <td>0.000000</td>\n",
       "      <td>1.000000</td>\n",
       "      <td>46.333333</td>\n",
       "      <td>38.000000</td>\n",
       "      <td>12.000000</td>\n",
       "      <td>1.000000</td>\n",
       "      <td>0.000000</td>\n",
       "      <td>76.666667</td>\n",
       "      <td>...</td>\n",
       "      <td>282.150000</td>\n",
       "      <td>284.816667</td>\n",
       "      <td>280.122526</td>\n",
       "      <td>281.483448</td>\n",
       "      <td>284.150000</td>\n",
       "      <td>283.150000</td>\n",
       "      <td>285.483333</td>\n",
       "      <td>281.250000</td>\n",
       "      <td>280.150000</td>\n",
       "      <td>7390.333333</td>\n",
       "    </tr>\n",
       "    <tr>\n",
       "      <th>50%</th>\n",
       "      <td>2.000000</td>\n",
       "      <td>5.000000</td>\n",
       "      <td>0.000000</td>\n",
       "      <td>2.000000</td>\n",
       "      <td>67.000000</td>\n",
       "      <td>59.333333</td>\n",
       "      <td>45.000000</td>\n",
       "      <td>1.333333</td>\n",
       "      <td>0.000000</td>\n",
       "      <td>145.666667</td>\n",
       "      <td>...</td>\n",
       "      <td>287.843333</td>\n",
       "      <td>289.426667</td>\n",
       "      <td>284.816667</td>\n",
       "      <td>286.193333</td>\n",
       "      <td>288.276333</td>\n",
       "      <td>287.816667</td>\n",
       "      <td>290.382000</td>\n",
       "      <td>286.923333</td>\n",
       "      <td>285.816667</td>\n",
       "      <td>11114.666667</td>\n",
       "    </tr>\n",
       "    <tr>\n",
       "      <th>75%</th>\n",
       "      <td>3.333333</td>\n",
       "      <td>8.000000</td>\n",
       "      <td>0.100000</td>\n",
       "      <td>3.666667</td>\n",
       "      <td>83.000000</td>\n",
       "      <td>80.000000</td>\n",
       "      <td>75.000000</td>\n",
       "      <td>2.666667</td>\n",
       "      <td>20.000000</td>\n",
       "      <td>233.333333</td>\n",
       "      <td>...</td>\n",
       "      <td>296.483333</td>\n",
       "      <td>295.150000</td>\n",
       "      <td>289.816667</td>\n",
       "      <td>291.040000</td>\n",
       "      <td>293.483333</td>\n",
       "      <td>292.483333</td>\n",
       "      <td>296.641333</td>\n",
       "      <td>294.993167</td>\n",
       "      <td>293.708917</td>\n",
       "      <td>14498.166667</td>\n",
       "    </tr>\n",
       "    <tr>\n",
       "      <th>max</th>\n",
       "      <td>13.333333</td>\n",
       "      <td>10.000000</td>\n",
       "      <td>3.000000</td>\n",
       "      <td>52.000000</td>\n",
       "      <td>100.000000</td>\n",
       "      <td>100.000000</td>\n",
       "      <td>100.000000</td>\n",
       "      <td>12.666667</td>\n",
       "      <td>97.333333</td>\n",
       "      <td>360.000000</td>\n",
       "      <td>...</td>\n",
       "      <td>314.483333</td>\n",
       "      <td>308.150000</td>\n",
       "      <td>309.816667</td>\n",
       "      <td>310.710000</td>\n",
       "      <td>306.816667</td>\n",
       "      <td>317.966667</td>\n",
       "      <td>314.816667</td>\n",
       "      <td>313.133333</td>\n",
       "      <td>310.383333</td>\n",
       "      <td>31904.000000</td>\n",
       "    </tr>\n",
       "  </tbody>\n",
       "</table>\n",
       "<p>8 rows × 47 columns</p>\n",
       "</div>"
      ],
      "text/plain": [
       "       Madrid_wind_speed  Valencia_wind_deg  Bilbao_rain_1h  \\\n",
       "count       11683.000000       11683.000000    11683.000000   \n",
       "mean            2.433750           5.476590        0.118698   \n",
       "std             1.831762           2.863384        0.334918   \n",
       "min             0.000000           1.000000        0.000000   \n",
       "25%             1.000000           3.000000        0.000000   \n",
       "50%             2.000000           5.000000        0.000000   \n",
       "75%             3.333333           8.000000        0.100000   \n",
       "max            13.333333          10.000000        3.000000   \n",
       "\n",
       "       Valencia_wind_speed  Seville_humidity  Madrid_humidity  \\\n",
       "count         11683.000000      11683.000000     11683.000000   \n",
       "mean              2.692873         63.774687        58.721818   \n",
       "std               2.321759         22.219380        24.390621   \n",
       "min               0.000000          8.333333         6.333333   \n",
       "25%               1.000000         46.333333        38.000000   \n",
       "50%               2.000000         67.000000        59.333333   \n",
       "75%               3.666667         83.000000        80.000000   \n",
       "max              52.000000        100.000000       100.000000   \n",
       "\n",
       "       Bilbao_clouds_all  Bilbao_wind_speed  Seville_clouds_all  \\\n",
       "count       11683.000000       11683.000000        11683.000000   \n",
       "mean           43.440712           1.958629           14.155268   \n",
       "std            32.046215           1.696043           24.541321   \n",
       "min             0.000000           0.000000            0.000000   \n",
       "25%            12.000000           1.000000            0.000000   \n",
       "50%            45.000000           1.333333            0.000000   \n",
       "75%            75.000000           2.666667           20.000000   \n",
       "max           100.000000          12.666667           97.333333   \n",
       "\n",
       "       Bilbao_wind_deg  ...  Madrid_temp_max  Barcelona_temp  Bilbao_temp_min  \\\n",
       "count     11683.000000  ...     11683.000000    11683.000000     11683.000000   \n",
       "mean        159.878855  ...       289.377372      289.869413       284.993657   \n",
       "std         101.005654  ...         9.594562        6.680538         6.730076   \n",
       "min           0.000000  ...       264.983333      270.816667       264.483333   \n",
       "25%          76.666667  ...       282.150000      284.816667       280.122526   \n",
       "50%         145.666667  ...       287.843333      289.426667       284.816667   \n",
       "75%         233.333333  ...       296.483333      295.150000       289.816667   \n",
       "max         360.000000  ...       314.483333      308.150000       309.816667   \n",
       "\n",
       "        Bilbao_temp  Barcelona_temp_min  Bilbao_temp_max  Seville_temp_min  \\\n",
       "count  11683.000000        11683.000000     11683.000000      11683.000000   \n",
       "mean     286.447784          288.616766       288.095397        291.263219   \n",
       "std        6.738466            6.391989         6.898601          8.136234   \n",
       "min      267.483333          269.483333       269.063000        270.150000   \n",
       "25%      281.483448          284.150000       283.150000        285.483333   \n",
       "50%      286.193333          288.276333       287.816667        290.382000   \n",
       "75%      291.040000          293.483333       292.483333        296.641333   \n",
       "max      310.710000          306.816667       317.966667        314.816667   \n",
       "\n",
       "        Madrid_temp  Madrid_temp_min  load_shortfall_3h  \n",
       "count  11683.000000     11683.000000        8763.000000  \n",
       "mean     288.282055       287.056222       10673.857612  \n",
       "std        9.258559         9.093455        5218.046404  \n",
       "min      264.983333       264.983333       -6618.000000  \n",
       "25%      281.250000       280.150000        7390.333333  \n",
       "50%      286.923333       285.816667       11114.666667  \n",
       "75%      294.993167       293.708917       14498.166667  \n",
       "max      313.133333       310.383333       31904.000000  \n",
       "\n",
       "[8 rows x 47 columns]"
      ]
     },
     "execution_count": 14,
     "metadata": {},
     "output_type": "execute_result"
    }
   ],
   "source": [
    "# Looking at the statistics\n",
    "\n",
    "df_clean.describe()"
   ]
  },
  {
   "cell_type": "markdown",
   "id": "c5dabaaf",
   "metadata": {},
   "source": [
    "## 4. Exploratory Data Analysis "
   ]
  },
  {
   "cell_type": "code",
   "execution_count": null,
   "id": "5b12f557",
   "metadata": {},
   "outputs": [
    {
     "data": {
      "text/plain": [
       "Text(0.5, 1.0, 'Spain Electricity Shortfall')"
      ]
     },
     "execution_count": 15,
     "metadata": {},
     "output_type": "execute_result"
    }
   ],
   "source": [
    "plt.plot(df_clean.time, df_clean.load_shortfall_3h)\n",
    "plt.xlabel('Time')\n",
    "plt.ylabel('Load Shortfall 3h')\n",
    "plt.title('Spain Electricity Shortfall')"
   ]
  },
  {
   "cell_type": "code",
   "execution_count": null,
   "id": "f6c301de",
   "metadata": {},
   "outputs": [],
   "source": [
    "# Using Pairplot method to understand the distribution of each variable\n",
    "df_clean.hist(figsize=(30,15))\n",
    "plt.show()"
   ]
  },
  {
   "cell_type": "code",
   "execution_count": null,
   "id": "96f163a2",
   "metadata": {},
   "outputs": [],
   "source": [
    "# Reorder columns so that our dependent variable is the last column of the dataframe\n",
    "column_titles = [col for col in df_clean.columns if col!= 'load_shortfall_3h'] + ['load_shortfall_3h']\n",
    "df_clean = df_clean.reindex(columns=column_titles)"
   ]
  },
  {
   "cell_type": "code",
   "execution_count": null,
   "id": "33c513c6",
   "metadata": {},
   "outputs": [],
   "source": [
    "# Evaluate correlation\n",
    "correlation = df_clean.corr()\n",
    "sns.heatmap(correlation, xticklabels=correlation.columns, yticklabels=correlation.columns, annot =True)"
   ]
  },
  {
   "cell_type": "markdown",
   "id": "b98bd343",
   "metadata": {},
   "source": [
    "## 5. Data Engineering"
   ]
  },
  {
   "cell_type": "code",
   "execution_count": null,
   "id": "7a4ec093",
   "metadata": {},
   "outputs": [],
   "source": [
    "df_clean['time']"
   ]
  },
  {
   "cell_type": "code",
   "execution_count": null,
   "id": "98ddeadb",
   "metadata": {},
   "outputs": [],
   "source": [
    "# Changing dtype for the time variable from object to datetime64\n",
    "\n",
    "df_clean['time'] = pd.to_datetime(df_clean['time'])\n",
    "\n",
    "# Creating new features: day, month, year, weekday, hour\n",
    "\n",
    "df_clean['day']= df_clean['time'].dt.day\n",
    "df_clean['month']= df_clean['time'].dt.month\n",
    "df_clean['year']= df_clean['time'].dt.year\n",
    "df_clean['weekday']= df_clean['time'].dt.weekday\n",
    "df_clean['hour']= df_clean['time'].dt.hour"
   ]
  },
  {
   "cell_type": "code",
   "execution_count": null,
   "id": "e824455c",
   "metadata": {
    "scrolled": true
   },
   "outputs": [],
   "source": [
    "# Drop time variable\n",
    "df_clean = df_clean.drop(['time'], axis = 1)\n",
    "df_clean.head()"
   ]
  },
  {
   "cell_type": "code",
   "execution_count": null,
   "id": "bea90c81",
   "metadata": {},
   "outputs": [],
   "source": [
    "# with the following function we can select highly correlated features\n",
    "# it will remove the first feature that is correlated with anything other feature\n",
    "\n",
    "def correlation(dataset, threshold):\n",
    "    col_corr = set()  # Set of all the names of correlated columns\n",
    "    corr_matrix = dataset.corr()\n",
    "    for i in range(len(corr_matrix.columns)):\n",
    "        for j in range(i):\n",
    "            if abs(corr_matrix.iloc[i, j]) > threshold: # we are interested in absolute coeff value\n",
    "                colname = corr_matrix.columns[i]  # getting the name of column\n",
    "                col_corr.add(colname)\n",
    "    return col_corr\n"
   ]
  },
  {
   "cell_type": "code",
   "execution_count": null,
   "id": "ef061e24",
   "metadata": {},
   "outputs": [],
   "source": [
    "corr_features = correlation(df_clean, 0.8)\n",
    "len(set(corr_features))"
   ]
  },
  {
   "cell_type": "code",
   "execution_count": null,
   "id": "c1f4a82d",
   "metadata": {},
   "outputs": [],
   "source": [
    "corr_features"
   ]
  },
  {
   "cell_type": "code",
   "execution_count": null,
   "id": "d7f12a84",
   "metadata": {},
   "outputs": [],
   "source": [
    "df_clean= df_clean.drop(corr_features,axis=1)"
   ]
  },
  {
   "cell_type": "code",
   "execution_count": null,
   "id": "23738088",
   "metadata": {},
   "outputs": [],
   "source": [
    "# evaluate correlation\n",
    "from statsmodels.graphics.correlation import plot_corr\n",
    "\n",
    "fig = plt.figure(figsize=(15,15));\n",
    "ax = fig.add_subplot(111);\n",
    "plot_corr(df_clean.corr(), xnames = df_clean.corr().columns, ax = ax);"
   ]
  },
  {
   "cell_type": "markdown",
   "id": "8f3b460c",
   "metadata": {},
   "source": [
    "## 6. Modelling"
   ]
  },
  {
   "cell_type": "markdown",
   "id": "fb990d13",
   "metadata": {},
   "source": [
    "### Preparing to Model"
   ]
  },
  {
   "cell_type": "code",
   "execution_count": null,
   "id": "e00f1b76",
   "metadata": {},
   "outputs": [],
   "source": [
    "# split data\n",
    "y = df_clean[:len(df1)][['load_shortfall_3h']]\n",
    "\n",
    "x = df_clean[:len(df1)].drop('load_shortfall_3h',axis=1)\n",
    "# Ignore for now\n",
    "x_train = df_clean[:len(df1)].drop('load_shortfall_3h',axis=1)\n",
    "x_test = df_clean[len(df1):].drop('load_shortfall_3h',axis=1)\n"
   ]
  },
  {
   "cell_type": "markdown",
   "id": "886ea218",
   "metadata": {},
   "source": [
    "### Load Model"
   ]
  },
  {
   "cell_type": "code",
   "execution_count": null,
   "id": "7e06ea47",
   "metadata": {},
   "outputs": [],
   "source": [
    "# create targets and features dataset\n",
    "#lr = LinearRegression()\n",
    "regressor = RandomForestRegressor(n_estimators = 500, random_state = 0)\n"
   ]
  },
  {
   "cell_type": "code",
   "execution_count": null,
   "id": "9b452958",
   "metadata": {},
   "outputs": [],
   "source": [
    "# Using just the training dataset to test model accuracy \n",
    "from sklearn.model_selection import train_test_split\n",
    "\n",
    "x_train, x_test, y_train, y_test= train_test_split(x, y, test_size= 0.2) "
   ]
  },
  {
   "cell_type": "code",
   "execution_count": null,
   "id": "41589ca0",
   "metadata": {},
   "outputs": [],
   "source": [
    "regressor.fit(x_train,y_train)\n",
    "\n",
    "preds = regressor.predict(x_test)"
   ]
  },
  {
   "cell_type": "markdown",
   "id": "f0e8cfec",
   "metadata": {},
   "source": [
    "### Evaluate Model"
   ]
  },
  {
   "cell_type": "code",
   "execution_count": null,
   "id": "49d55867",
   "metadata": {},
   "outputs": [],
   "source": [
    "def rmse(y_test, y_predict):\n",
    "    return np.sqrt(mean_squared_error(y_test, y_predict))"
   ]
  },
  {
   "cell_type": "code",
   "execution_count": null,
   "id": "59c8d8ee",
   "metadata": {},
   "outputs": [],
   "source": [
    "rmse(y_test, preds)"
   ]
  },
  {
   "cell_type": "code",
   "execution_count": null,
   "id": "0f544b9c",
   "metadata": {},
   "outputs": [],
   "source": [
    "from sklearn.metrics import r2_score"
   ]
  },
  {
   "cell_type": "code",
   "execution_count": null,
   "id": "c58cd9dd",
   "metadata": {},
   "outputs": [],
   "source": [
    "r2_score(y_test, preds)"
   ]
  },
  {
   "cell_type": "markdown",
   "id": "a579a45e",
   "metadata": {},
   "source": [
    "### Making a submission"
   ]
  },
  {
   "cell_type": "code",
   "execution_count": null,
   "id": "d5977afd",
   "metadata": {},
   "outputs": [],
   "source": [
    "#Make submission\n",
    "x_train = df_clean[:len(df1)].drop('load_shortfall_3h',axis=1)\n",
    "x_test = df_clean[len(df1):].drop('load_shortfall_3h',axis=1)"
   ]
  },
  {
   "cell_type": "code",
   "execution_count": null,
   "id": "25692a33",
   "metadata": {},
   "outputs": [],
   "source": [
    "regressor.fit(x_train,y)\n",
    "\n",
    "preds = regressor.predict(x_test)"
   ]
  },
  {
   "cell_type": "code",
   "execution_count": null,
   "id": "00cdf224",
   "metadata": {},
   "outputs": [],
   "source": [
    "daf=pd.DataFrame(preds, columns=['load_shortfall_3h'])\n",
    "daf.head()"
   ]
  },
  {
   "cell_type": "code",
   "execution_count": null,
   "id": "75567e9f",
   "metadata": {},
   "outputs": [],
   "source": [
    "output = pd.DataFrame({\"time\":df2['time']})\n",
    "submission = output.join(daf)        \n",
    "submission.to_csv(\"submission.csv\", index=False)"
   ]
  },
  {
   "cell_type": "code",
   "execution_count": null,
   "id": "65ca5d52",
   "metadata": {},
   "outputs": [],
   "source": [
    "submission"
   ]
  },
  {
   "cell_type": "markdown",
   "id": "a4bd0ff6",
   "metadata": {},
   "source": [
    "## 7. Modelling Perfomance"
   ]
  },
  {
   "cell_type": "code",
   "execution_count": null,
   "id": "b695d23d",
   "metadata": {},
   "outputs": [],
   "source": []
  },
  {
   "cell_type": "markdown",
   "id": "1c4a8926",
   "metadata": {},
   "source": [
    "## 8. Model Explanation"
   ]
  },
  {
   "cell_type": "code",
   "execution_count": null,
   "id": "0fba31f6",
   "metadata": {},
   "outputs": [],
   "source": []
  }
 ],
 "metadata": {
  "kernelspec": {
   "display_name": "Python 3",
   "language": "python",
   "name": "python3"
  },
  "language_info": {
   "codemirror_mode": {
    "name": "ipython",
    "version": 3
   },
   "file_extension": ".py",
   "mimetype": "text/x-python",
   "name": "python",
   "nbconvert_exporter": "python",
   "pygments_lexer": "ipython3",
   "version": "3.8.8"
  }
 },
 "nbformat": 4,
 "nbformat_minor": 5
}
